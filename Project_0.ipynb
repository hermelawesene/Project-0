{
 "cells": [
  {
   "cell_type": "code",
   "execution_count": 17,
   "id": "d8d92a82-d1be-4e71-b6ee-6c0ab83b110b",
   "metadata": {},
   "outputs": [
    {
     "name": "stdout",
     "output_type": "stream",
     "text": [
      "6\n"
     ]
    }
   ],
   "source": [
    "# 1. Longest Increasing Subsequence (LIS)\n",
    "from bisect import bisect_left\n",
    "\n",
    "def lengthOfLIS(nums):\n",
    "    sub = []  \n",
    "    for num in nums:\n",
    "        idx = bisect_left(sub, num)  \n",
    "        if idx == len(sub):\n",
    "            sub.append(num) \n",
    "        else:\n",
    "            sub[idx] = num  \n",
    "\n",
    "    return len(sub)  \n",
    "# For Example\n",
    "arr = [10, 22, 9, 33, 21, 50, 41, 60, 80]\n",
    "print(lengthOfLIS(arr)) \n"
   ]
  },
  {
   "cell_type": "code",
   "execution_count": 19,
   "id": "7842d117-9108-4a6d-b12e-c40100c76f36",
   "metadata": {},
   "outputs": [
    {
     "name": "stdout",
     "output_type": "stream",
     "text": [
      "[5, 3, 4, 6, 7, 8, 9, 1, 2]\n",
      "[6, 7, 2, 1, 9, 5, 3, 4, 8]\n",
      "[1, 9, 8, 3, 4, 2, 5, 6, 7]\n",
      "[8, 5, 9, 7, 6, 1, 4, 2, 3]\n",
      "[4, 2, 6, 8, 5, 3, 7, 9, 1]\n",
      "[7, 1, 3, 9, 2, 4, 8, 5, 6]\n",
      "[9, 6, 1, 5, 3, 7, 2, 8, 4]\n",
      "[2, 8, 7, 4, 1, 9, 6, 3, 5]\n",
      "[3, 4, 5, 2, 8, 6, 1, 7, 9]\n"
     ]
    }
   ],
   "source": [
    "# 2. Sudoku Solver\n",
    "def is_valid(board, row, col, num):\n",
    "    for i in range(9):\n",
    "        if board[row][i] == num or board[i][col] == num: \n",
    "            return False\n",
    "    \n",
    "    start_row, start_col = (row // 3) * 3, (col // 3) * 3\n",
    "    for i in range(3):\n",
    "        for j in range(3):\n",
    "            if board[start_row + i][start_col + j] == num:\n",
    "                return False\n",
    "                \n",
    "    return True\n",
    "\n",
    "def solve_sudoku(board):\n",
    "    for row in range(9):\n",
    "        for col in range(9):\n",
    "            if board[row][col] == 0: \n",
    "                for num in range(1, 10): \n",
    "                    if is_valid(board, row, col, num):\n",
    "                        board[row][col] = num  \n",
    "                        if solve_sudoku(board): \n",
    "                            return True\n",
    "                        board[row][col] = 0  \n",
    "                \n",
    "                return False\n",
    "    \n",
    "    return True \n",
    "\n",
    "# For Example\n",
    "board = [\n",
    "    [5, 3, 0, 0, 7, 0, 0, 0, 0],\n",
    "    [6, 0, 0, 1, 9, 5, 0, 0, 0],\n",
    "    [0, 9, 8, 0, 0, 0, 0, 6, 0],\n",
    "    [8, 0, 0, 0, 6, 0, 0, 0, 3],\n",
    "    [4, 0, 0, 8, 0, 3, 0, 0, 1],\n",
    "    [7, 0, 0, 0, 2, 0, 0, 0, 6],\n",
    "    [0, 6, 0, 0, 0, 0, 2, 8, 0],\n",
    "    [0, 0, 0, 4, 1, 9, 0, 0, 5],\n",
    "    [0, 0, 0, 0, 8, 0, 0, 7, 9]\n",
    "]\n",
    "\n",
    "if solve_sudoku(board):\n",
    "    for row in board:\n",
    "        print(row)\n",
    "else:\n",
    "    print(\"No solution exists.\")\n"
   ]
  },
  {
   "cell_type": "code",
   "execution_count": 21,
   "id": "27923b7d-2aa0-4826-b994-76a877bd1632",
   "metadata": {},
   "outputs": [
    {
     "name": "stdout",
     "output_type": "stream",
     "text": [
      "[1, 3, 0, 2]\n",
      "[2, 0, 3, 1]\n"
     ]
    }
   ],
   "source": [
    "# 3. N-Queens Problem\n",
    "def solve_n_queens(n):\n",
    "    def is_safe(row, col):\n",
    "        return col not in cols and (row - col) not in diag1 and (row + col) not in diag2\n",
    "\n",
    "    def backtrack(row, current_solution):\n",
    "        if row == n: \n",
    "            solutions.append(current_solution[:])\n",
    "            return\n",
    "        \n",
    "        for col in range(n):\n",
    "            if is_safe(row, col):\n",
    "                cols.add(col)\n",
    "                diag1.add(row - col)\n",
    "                diag2.add(row + col)\n",
    "                current_solution.append(col)\n",
    "\n",
    "                backtrack(row + 1, current_solution)\n",
    "\n",
    "                cols.remove(col)\n",
    "                diag1.remove(row - col)\n",
    "                diag2.remove(row + col)\n",
    "                current_solution.pop()\n",
    "\n",
    "    cols, diag1, diag2 = set(), set(), set()\n",
    "    solutions = []\n",
    "    backtrack(0, [])\n",
    "\n",
    "    return solutions\n",
    "\n",
    "# For Example\n",
    "n = 4\n",
    "solutions = solve_n_queens(n)\n",
    "for sol in solutions:\n",
    "    print(sol)\n"
   ]
  },
  {
   "cell_type": "code",
   "execution_count": 23,
   "id": "f4f6d995-2edd-4e95-8fdf-b87ceea580b5",
   "metadata": {},
   "outputs": [
    {
     "name": "stdout",
     "output_type": "stream",
     "text": [
      "5\n"
     ]
    }
   ],
   "source": [
    "# 4. Word Ladder\n",
    "from collections import deque\n",
    "\n",
    "def word_ladder(beginWord, endWord, wordList):\n",
    "    wordSet, queue = set(wordList), deque([(beginWord, 1)])  \n",
    "    if endWord not in wordSet: return 0  \n",
    "\n",
    "    while queue:\n",
    "        word, steps = queue.popleft()\n",
    "        if word == endWord: return steps  \n",
    "\n",
    "        for i in range(len(word)):\n",
    "            for char in 'abcdefghijklmnopqrstuvwxyz':\n",
    "                newWord = word[:i] + char + word[i+1:]\n",
    "                if newWord in wordSet:\n",
    "                    queue.append((newWord, steps + 1))\n",
    "                    wordSet.remove(newWord)  \n",
    "\n",
    "    return 0  \n",
    "\n",
    "# For Example\n",
    "print(word_ladder(\"hit\", \"cog\", [\"hot\", \"dot\", \"dog\", \"lot\", \"log\", \"cog\"]))\n"
   ]
  },
  {
   "cell_type": "code",
   "execution_count": 25,
   "id": "72f254b5-3187-459b-866c-d72fe500f6a3",
   "metadata": {},
   "outputs": [
    {
     "name": "stdout",
     "output_type": "stream",
     "text": [
      "2\n"
     ]
    }
   ],
   "source": [
    "# 5. Find the Median of Two Sorted Arrays\n",
    "def findMedianSortedArrays(nums1, nums2):\n",
    "    if len(nums1) > len(nums2):\n",
    "        nums1, nums2 = nums2, nums1  \n",
    "\n",
    "    x, y = len(nums1), len(nums2)\n",
    "    low, high = 0, x\n",
    "\n",
    "    while low <= high:\n",
    "        partitionX = (low + high) // 2\n",
    "        partitionY = (x + y + 1) // 2 - partitionX\n",
    "\n",
    "        maxLeftX = float('-inf') if partitionX == 0 else nums1[partitionX - 1]\n",
    "        minRightX = float('inf') if partitionX == x else nums1[partitionX]\n",
    "\n",
    "        maxLeftY = float('-inf') if partitionY == 0 else nums2[partitionY - 1]\n",
    "        minRightY = float('inf') if partitionY == y else nums2[partitionY]\n",
    "        \n",
    "        if maxLeftX <= minRightY and maxLeftY <= minRightX:\n",
    "            if (x + y) % 2 == 0:\n",
    "                return (max(maxLeftX, maxLeftY) + min(minRightX, minRightY)) / 2\n",
    "            else: \n",
    "                return max(maxLeftX, maxLeftY)\n",
    "\n",
    "        elif maxLeftX > minRightY:  \n",
    "            high = partitionX - 1\n",
    "        else:  \n",
    "            low = partitionX + 1\n",
    "\n",
    "# For Example\n",
    "nums1 = [1, 3]\n",
    "nums2 = [2]\n",
    "print(findMedianSortedArrays(nums1, nums2)) \n"
   ]
  },
  {
   "cell_type": "code",
   "execution_count": 27,
   "id": "67606774-873d-4c42-8174-92c5bfdcb59c",
   "metadata": {},
   "outputs": [
    {
     "name": "stdout",
     "output_type": "stream",
     "text": [
      "True\n"
     ]
    }
   ],
   "source": [
    "# 6. Graph Cycle Detection (Directed Graph)\n",
    "def has_cycle(graph):\n",
    "    def dfs(node):\n",
    "        if node in recursion_stack: \n",
    "            return True\n",
    "        if node in visited: \n",
    "            return False\n",
    "\n",
    "        visited.add(node)\n",
    "        recursion_stack.add(node)\n",
    "\n",
    "        for neighbor in graph.get(node, []): \n",
    "            if dfs(neighbor): \n",
    "                return True\n",
    "\n",
    "        recursion_stack.remove(node) \n",
    "        return False\n",
    "\n",
    "    visited = set()\n",
    "    recursion_stack = set()\n",
    "\n",
    "    for node in graph: \n",
    "        if node not in visited:\n",
    "            if dfs(node):\n",
    "                return True\n",
    "    return False\n",
    "\n",
    "# For Example \n",
    "graph = {\n",
    "    0: [1],\n",
    "    1: [2],\n",
    "    2: [3],\n",
    "    3: [0]  \n",
    "}\n",
    "print(has_cycle(graph)) \n"
   ]
  },
  {
   "cell_type": "code",
   "execution_count": null,
   "id": "732b5395-6c46-486c-b052-e194bcd6d5ce",
   "metadata": {},
   "outputs": [],
   "source": []
  }
 ],
 "metadata": {
  "kernelspec": {
   "display_name": "Python 3 (ipykernel)",
   "language": "python",
   "name": "python3"
  },
  "language_info": {
   "codemirror_mode": {
    "name": "ipython",
    "version": 3
   },
   "file_extension": ".py",
   "mimetype": "text/x-python",
   "name": "python",
   "nbconvert_exporter": "python",
   "pygments_lexer": "ipython3",
   "version": "3.12.7"
  }
 },
 "nbformat": 4,
 "nbformat_minor": 5
}
